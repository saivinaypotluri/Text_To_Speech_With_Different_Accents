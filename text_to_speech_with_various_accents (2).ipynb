{
  "nbformat": 4,
  "nbformat_minor": 0,
  "metadata": {
    "colab": {
      "provenance": []
    },
    "kernelspec": {
      "name": "python3",
      "display_name": "Python 3"
    },
    "language_info": {
      "name": "python"
    }
  },
  "cells": [
    {
      "cell_type": "code",
      "execution_count": null,
      "metadata": {
        "id": "0xmwtsPCWlpD"
      },
      "outputs": [],
      "source": [
        "!pip install gTTS\n",
        "!pip install gradio\n",
        "from IPython.display import clear_output\n",
        "clear_output()"
      ]
    },
    {
      "cell_type": "code",
      "source": [
        "#This is only for output file\n",
        "from gtts import gTTS\n",
        "from google.colab import files\n",
        "import IPython\n",
        "\n",
        "\n",
        "d = {\n",
        "     \"English(Aus)\":'en',\n",
        "     \"English(UK)\":'en',\n",
        "     \"English(US)\":'en',\n",
        "     \"English(CAN)\":'en',\n",
        "     \"Spanish\":'es',\n",
        "     \"Indian\":'hi',\n",
        "     \"Arabic\":'ar',\n",
        "     \"French\":'fr',\n",
        "     \"Chinese\":'zh',\n",
        "     \"Polish\":'pl',\n",
        "     \"Ukrainian\":'uk',\n",
        "     \"Afrikaans\":'af'\n",
        "\n",
        "}\n",
        "a = {\n",
        "     \"English(Aus)\":'com.au',\n",
        "     \"English(UK)\":'co.uk',\n",
        "     \"English(US)\":'com',\n",
        "     \"English(CAN)\":'ca',\n",
        "     \"Spanish\":'com',\n",
        "     \"Indian\":'com',\n",
        "     \"Arabic\":'com',\n",
        "     \"French\":'com',\n",
        "     \"Chinese\":'com',\n",
        "     \"Polish\":'com',\n",
        "     \"Ukrainian\":'com',\n",
        "     \"Afrikaans\":'com'\n",
        "\n",
        "}\n",
        "#visit this site for documentation\n",
        "#https://gtts.readthedocs.io/en/latest/index.html\n",
        "text = \"Hi, This is a Project on Text to Speech with various accents\" #@param {type:\"string\"}\n",
        "Accents = \"English(Aus)\" #@param [\"English(Aus)\", \"Spanish\", \"Afrikaans\", \"Indian\", \"Arabic\", \"Chinese\", \"Polish\", \"French\", \"Ukrainian\", \"English(UK)\", \"English(US)\"]\n",
        "\n",
        "pytts = gTTS(text, lang=d[Accents], tld=a[Accents])\n",
        "\n",
        "pytts.save('audio_generated.mp3')\n",
        "\n",
        "IPython.display.Audio(\"audio_generated.mp3\")\n",
        "# files.download(\"audio_generated.mp3\") \n",
        "#files.download() is used to save the file offline"
      ],
      "metadata": {
        "id": "m_u0FQ2gWwJt"
      },
      "execution_count": null,
      "outputs": []
    },
    {
      "cell_type": "code",
      "source": [
        "#This code is for output file with interface\n",
        "import gradio as gr\n",
        "from gtts import gTTS\n",
        "\n",
        "def text_to_speech(text, accent):\n",
        "    d = {\n",
        "        \"English(Aus)\":'en',\n",
        "        \"English(UK)\":'en',\n",
        "        \"English(US)\":'en',\n",
        "        \"Spanish\":'es',\n",
        "        \"Indian\":'hi',\n",
        "        \"Arabic\":'ar',\n",
        "        \"French\":'fr',\n",
        "        \"Chinese\":'zh',\n",
        "        \"Polish\":'pl',\n",
        "        \"Ukrainian\":'uk',\n",
        "        \"Afrikaans\":'af'\n",
        "    }\n",
        "\n",
        "    a = {\n",
        "        \"English(Aus)\":'com.au',\n",
        "        \"English(UK)\":'co.uk',\n",
        "        \"English(US)\":'com',\n",
        "        \"Spanish\":'com',\n",
        "        \"Indian\":'com',\n",
        "        \"Arabic\":'com',\n",
        "        \"French\":'com',\n",
        "        \"Chinese\":'com',\n",
        "        \"Polish\":'com',\n",
        "        \"Ukrainian\":'com',\n",
        "        \"Afrikaans\":'com'\n",
        "    }\n",
        "\n",
        "    pytts = gTTS(text, lang=d[accent], tld=a[accent])\n",
        "    pytts.save('audio_generated.mp3')\n",
        "    return 'audio_generated.mp3'\n",
        "\n",
        "iface = gr.Interface(fn=text_to_speech, \n",
        "                     inputs=[\"text\", gr.inputs.Dropdown(list(d.keys()), label=\"Accent\")], \n",
        "                     outputs=\"audio\",\n",
        "                     title=\"Text to Speech with Different Accents\",\n",
        "                     description=\"Enter text and select accent to hear speech\")\n",
        "\n",
        "iface.launch(share=True,debug=True)\n"
      ],
      "metadata": {
        "id": "b0g7a1P0hTZs"
      },
      "execution_count": null,
      "outputs": []
    }
  ]
}